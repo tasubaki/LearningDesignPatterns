{
 "cells": [
  {
   "cell_type": "code",
   "execution_count": 1,
   "metadata": {},
   "outputs": [
    {
     "data": {
      "text/plain": [
       "'\\nBài toán quản lý sinh viên\\nYêu cầu: các chức năng sau:\\n\\n1. Thêm sinh viên.\\n2. Cập nhật thông tin sinh viên bởi ID.\\n3. Xóa sinh viên bởi ID.\\n4. Tìm kiếm sinh viên theo tên.\\n5. Sắp xếp sinh viên theo điểm trung bình (GPA).\\n6. Sắp xếp sinh viên theo tên.\\n7. Hiển thị danh sách sinh vien.\\n8. Ghi danh sách sinh viên vào file \"student.txt\" .\\n'"
      ]
     },
     "execution_count": 1,
     "metadata": {},
     "output_type": "execute_result"
    }
   ],
   "source": [
    "\"\"\"\n",
    "Bài toán quản lý sinh viên\n",
    "Yêu cầu: các chức năng sau:\n",
    "\n",
    "1. Thêm sinh viên.\n",
    "2. Cập nhật thông tin sinh viên bởi ID.\n",
    "3. Xóa sinh viên bởi ID.\n",
    "4. Tìm kiếm sinh viên theo tên.\n",
    "5. Sắp xếp sinh viên theo điểm trung bình (GPA).\n",
    "6. Sắp xếp sinh viên theo tên.\n",
    "7. Hiển thị danh sách sinh vien.\n",
    "8. Ghi danh sách sinh viên vào file \"student.txt\" .\n",
    "\"\"\""
   ]
  },
  {
   "cell_type": "code",
   "execution_count": 2,
   "metadata": {},
   "outputs": [],
   "source": [
    "from abc import ABC, abstractmethod\n",
    "\n",
    "# Lớp trừu tượng\n",
    "class Student(ABC):\n",
    "    def intro(self):\n",
    "        print(\"Tôi là học sinh và đây là bài tập về nhà của tôi:\")\n",
    "\n",
    "    @abstractmethod\n",
    "    def do_homework(self):\n",
    "        pass\n",
    "\n",
    "# Học sinh tiểu học\n",
    "class PrimaryStudent(Student):\n",
    "    def do_homework(self):\n",
    "        print(\"Tôi làm bài tập cộng trừ đơn giản.\")\n",
    "\n",
    "# Học sinh cấp 3\n",
    "class HighSchoolStudent(Student):\n",
    "    def do_homework(self):\n",
    "        print(\"Tôi làm bài tập toán nâng cao.\")"
   ]
  },
  {
   "cell_type": "code",
   "execution_count": null,
   "metadata": {},
   "outputs": [],
   "source": [
    "class PersonFactory:\n",
    "\n",
    "    @staticmethod\n",
    "    def build_person(person_type):\n",
    "        if person_type == \"Student 1\":\n",
    "            return PrimaryStudent()\n",
    "        if person_type == \"Teacher 3\":\n",
    "            return HighSchoolStudent()\n",
    "        print(\"Invalid Type\")\n",
    "        return -1\n",
    "\n",
    "\n",
    "if __name__ == \"__main__\":\n",
    "    choice = input(\"What type of level do you want to create?\\n\")\n",
    "    person = PersonFactory.build_person(choice)\n",
    "    person.person_method()"
   ]
  },
  {
   "cell_type": "code",
   "execution_count": 2,
   "metadata": {},
   "outputs": [
    {
     "ename": "SyntaxError",
     "evalue": "invalid syntax (3775153022.py, line 1)",
     "output_type": "error",
     "traceback": [
      "\u001b[1;36m  Cell \u001b[1;32mIn[2], line 1\u001b[1;36m\u001b[0m\n\u001b[1;33m    - interface và Abstract thì interface trong python thường không rõ ràng.\u001b[0m\n\u001b[1;37m                ^\u001b[0m\n\u001b[1;31mSyntaxError\u001b[0m\u001b[1;31m:\u001b[0m invalid syntax\n"
     ]
    }
   ],
   "source": [
    "- interface và Abstract thì interface trong python thường không rõ ràng. \n",
    "    1 cách là Duck-type miễn kết quả ra đúng.   \n",
    "    so java với python. java phân rõ interface và abstract còn python thường là class Interface(ABC)\n",
    "    khác nhau bởi việc khai báo tĩnh và khai báo động"
   ]
  },
  {
   "cell_type": "markdown",
   "metadata": {},
   "source": []
  },
  {
   "cell_type": "markdown",
   "metadata": {},
   "source": [
    "phân tích đối thủ: "
   ]
  },
  {
   "cell_type": "markdown",
   "metadata": {},
   "source": [
    "- xét theo tháng các chỉ số :\n",
    "fb.pixel, tt.pixel, catalog, feed\n",
    "list app về fb, tt"
   ]
  },
  {
   "cell_type": "code",
   "execution_count": null,
   "metadata": {},
   "outputs": [],
   "source": [
    "from threading import Lock\n",
    "class Singleton:\n",
    "    _instance = None\n",
    "    _lock = Lock()\n",
    "    def __new__(cls):\n",
    "        if cls._instance is None:\n",
    "            with cls._lock:\n",
    "                if cls._instance is None:\n",
    "                    cls._instance = super().__new__(cls)\n",
    "        return cls._instance"
   ]
  },
  {
   "cell_type": "markdown",
   "metadata": {},
   "source": []
  }
 ],
 "metadata": {
  "kernelspec": {
   "display_name": "Python 3",
   "language": "python",
   "name": "python3"
  },
  "language_info": {
   "codemirror_mode": {
    "name": "ipython",
    "version": 3
   },
   "file_extension": ".py",
   "mimetype": "text/x-python",
   "name": "python",
   "nbconvert_exporter": "python",
   "pygments_lexer": "ipython3",
   "version": "3.12.1"
  }
 },
 "nbformat": 4,
 "nbformat_minor": 2
}
